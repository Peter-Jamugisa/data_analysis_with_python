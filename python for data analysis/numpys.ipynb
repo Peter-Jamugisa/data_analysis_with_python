{
 "cells": [
  {
   "cell_type": "code",
   "execution_count": 1,
   "metadata": {},
   "outputs": [
    {
     "name": "stdout",
     "output_type": "stream",
     "text": [
      "[1 2 3 4 5]\n",
      "[[1 2 3]\n",
      " [4 5 6]]\n",
      "[3 4 5 6 7]\n"
     ]
    },
    {
     "ename": "ValueError",
     "evalue": "operands could not be broadcast together with shapes (5,) (2,3) ",
     "output_type": "error",
     "traceback": [
      "\u001b[1;31m---------------------------------------------------------------------------\u001b[0m",
      "\u001b[1;31mValueError\u001b[0m                                Traceback (most recent call last)",
      "\u001b[1;32mh:\\python for data analysis\\numpys.ipynb Cell 1\u001b[0m in \u001b[0;36m<cell line: 17>\u001b[1;34m()\u001b[0m\n\u001b[0;32m     <a href='vscode-notebook-cell:/h%3A/python%20for%20data%20analysis/numpys.ipynb#W0sZmlsZQ%3D%3D?line=12'>13</a>\u001b[0m arr3 \u001b[39m=\u001b[39m arr1 \u001b[39m+\u001b[39m \u001b[39m2\u001b[39m\n\u001b[0;32m     <a href='vscode-notebook-cell:/h%3A/python%20for%20data%20analysis/numpys.ipynb#W0sZmlsZQ%3D%3D?line=13'>14</a>\u001b[0m \u001b[39mprint\u001b[39m(arr3)\n\u001b[1;32m---> <a href='vscode-notebook-cell:/h%3A/python%20for%20data%20analysis/numpys.ipynb#W0sZmlsZQ%3D%3D?line=16'>17</a>\u001b[0m arr4 \u001b[39m=\u001b[39m arr1 \u001b[39m*\u001b[39;49m arr2\n\u001b[0;32m     <a href='vscode-notebook-cell:/h%3A/python%20for%20data%20analysis/numpys.ipynb#W0sZmlsZQ%3D%3D?line=17'>18</a>\u001b[0m \u001b[39mprint\u001b[39m(arr4)\n",
      "\u001b[1;31mValueError\u001b[0m: operands could not be broadcast together with shapes (5,) (2,3) "
     ]
    }
   ],
   "source": [
    "import numpy as np\n",
    "\n",
    "# Creating a 1-dimensional array\n",
    "arr1 = np.array([1, 2, 3, 4, 5])\n",
    "print(arr1)\n",
    "\n",
    "\n",
    "# Creating a 2-dimensional array\n",
    "arr2 = np.array([[1, 2, 3], [4, 5, 6]])\n",
    "print(arr2)\n",
    "\n",
    "\n",
    "# Performing arithmetic operations on arrays\n",
    "arr3 = arr1 + 2\n",
    "print(arr3)\n",
    "\n",
    "\n",
    "#questions\n",
    "# arr4 = arr1 * arr2\n",
    "# print(arr4)\n",
    "\n",
    "\n",
    "#to multiply two arrays together in numoy ,they must have the same number of values\n",
    "arr5= np.array([3,4,5,6,7])\n",
    "arr4 = arr1 * arr5\n",
    "print(arr4)\n"
   ]
  },
  {
   "cell_type": "code",
   "execution_count": 2,
   "metadata": {},
   "outputs": [
    {
     "name": "stdout",
     "output_type": "stream",
     "text": [
      "[1.         1.41421356 1.73205081 2.         2.23606798]\n",
      "[1 2 2 3 3 4 4]\n",
      "[1 2 3 4]\n"
     ]
    }
   ],
   "source": [
    "import numpy as np\n",
    "\n",
    "# Computing mathematical functions on arrays\n",
    "arr = np.array([1, 2, 3, 4, 5])\n",
    "print(np.sqrt(arr))\n",
    "# Output: [1.         1.41421356 1.73205081 2.         2.23606798]\n",
    "\n",
    "# Sorting and finding unique elements in an array\n",
    "arr = np.array([3, 1, 2, 3, 4, 2, 4])\n",
    "print(np.sort(arr))\n",
    "# Output: [1 2 2 3 3 4 4]\n",
    "\n",
    "print(np.unique(arr))\n",
    "# Output: [1 2 3 4]\n"
   ]
  },
  {
   "cell_type": "code",
   "execution_count": 3,
   "metadata": {},
   "outputs": [
    {
     "name": "stdout",
     "output_type": "stream",
     "text": [
      "3.0\n",
      "5\n",
      "15\n"
     ]
    }
   ],
   "source": [
    "#performing discreptive statistics on arrays.\n",
    "import numpy as np\n",
    "\n",
    "arr = np.array([1, 2, 3, 4, 5])\n",
    "print(np.mean(arr))\n",
    "# Output: 3.0\n",
    "\n",
    "print(np.max(arr))\n",
    "# Output: 5\n",
    "\n",
    "print(np.sum(arr))\n",
    "# Output: 15\n"
   ]
  },
  {
   "cell_type": "code",
   "execution_count": 9,
   "metadata": {},
   "outputs": [
    {
     "name": "stdout",
     "output_type": "stream",
     "text": [
      "[4 5 6]\n",
      "[7 8 9]\n",
      "[[ 7  8  9]\n",
      " [10 11 12]]\n",
      "[7 8 9]\n",
      "[ 1  2  3  4 64]\n",
      "[[1 2 3]\n",
      " [4 5 6]]\n",
      "[[2 3]\n",
      " [5 6]]\n",
      "[4 5]\n",
      "[3 6]\n",
      "[[4 7]\n",
      " [0 0]]\n",
      "[[7]\n",
      " [0]]\n",
      "[7 0]\n",
      "[[  0   2]\n",
      " [ -5   6]\n",
      " [  1   2]\n",
      " [-12  -4]\n",
      " [  3   4]]\n",
      "my own\n",
      "[[4]\n",
      " [0]]\n",
      "my own\n",
      "[[4. 4. 4. 4.]\n",
      " [3. 3. 3. 3.]\n",
      " [0. 0. 0. 0.]\n",
      " [6. 6. 6. 6.]]\n",
      "[[5. 5. 5. 5.]\n",
      " [3. 3. 3. 3.]\n",
      " [1. 1. 1. 1.]]\n",
      "[ 4 23 29 10]\n"
     ]
    }
   ],
   "source": [
    "# Example 1: Multidimensional indexing\n",
    "arr3d = np.array([[[1, 2, 3], [4, 5, 6]], [[7, 8, 9], [10, 11, 12]]])\n",
    "print(arr3d[0, 1])\n",
    "print(arr3d[1, 0])  # Output: [7, 8, 9]\n",
    "\n",
    "# Example 2: Indexing in two steps\n",
    "x = arr3d[1]\n",
    "print(x)  # Output: [[7, 8, 9], [10, 11, 12]]\n",
    "print(x[0])  # Output: [7, 8, 9]\n",
    "\n",
    "# Example 3: Slicing a one-dimensional array\n",
    "arr = np.array([0, 1, 2, 3, 4, 64, 64, 64, 8, 9])\n",
    "print(arr[1:6])  # Output: [1, 2, 3, 4, 64]\n",
    "\n",
    "# Example 4: Slicing a two-dimensional array\n",
    "arr2d = np.array([[1, 2, 3], [4, 5, 6], [7, 8, 9]])\n",
    "print(arr2d[:2])  # Output: [[1, 2, 3], [4, 5, 6]]\n",
    "print(arr2d[:2, 1:])  # Output: [[2, 3], [5, 6]]\n",
    "print(arr2d[1, :2])  # Output: [4, 5]\n",
    "print(arr2d[:2, 2])  # Output: [3, 6]\n",
    "\n",
    "# Example 5: Boolean indexing\n",
    "names = np.array([\"Bob\", \"Joe\", \"Will\", \"Bob\", \"Will\", \"Joe\", \"Joe\"])\n",
    "data = np.array([[4, 7], [0, 2], [-5, 6], [0, 0], [1, 2], [-12, -4], [3, 4]])\n",
    "print(data[names == \"Bob\"])  # Output: [[4, 7], [0, 0]]\n",
    "print(data[names == \"Bob\", 1:])  # Output: [[7], [0]]\n",
    "print(data[names == \"Bob\", 1])  # Output: [7, 0]\n",
    "print(data[names != \"Bob\"])  # Output: [[0, 2], [-5, 6], [1, 2], [-12, -4], [3, 4]]\n",
    "print(\"my own\")\n",
    "print(data[names == \"Bob\", :1]) \n",
    "print(\"my own\")\n",
    "\n",
    "\n",
    "\n",
    "# Example 6: Fancy indexing\n",
    "arr = np.zeros((8, 4))\n",
    "for i in range(8):\n",
    "    arr[i] = i\n",
    "print(arr[[4, 3, 0, 6]])  # Output: [[4, 4, 4, 4], [3, 3, 3, 3], [0, 0, 0, 0], [6, 6, 6, 6]]\n",
    "print(arr[[-3, -5, -7]])  # Output: [[5, 5, 5, 5], [3, 3, 3, 3], [1, 1, 1, 1]]\n",
    "arr2d = np.arange(32).reshape((8, 4))\n",
    "print(arr2d[[1, 5, 7, 2], [0, 3, 1, 2]])  # Output: [4, 23, 29, 10]\n",
    "\n",
    "# Example 7 ***********\n",
    "\n",
    "arr2d = np.arange(32).reshape((8, 4))\n",
    "print(arr2d[[1, 5, 7, 2]][:, [0, 3, 1, 2]])\n",
    "# Output:\n",
    "# [[ 4  7  5  6]\n",
    "#  [20 23 21 22]\n",
    "#  [28 31 29 30]\n",
    "#  [ 8 11  9 10]]\n"
   ]
  },
  {
   "cell_type": "code",
   "execution_count": 11,
   "metadata": {},
   "outputs": [
    {
     "data": {
      "image/png": "[encoded data removed]",
      "text/plain": [
       "<Figure size 432x288 with 1 Axes>"
      ]
     },
     "metadata": {
      "needs_background": "light"
     },
     "output_type": "display_data"
    }
   ],
   "source": [
    "import matplotlib.pyplot as plt\n",
    "import numpy as np\n",
    "\n",
    "# Create a 2D array of function values\n",
    "values = np.random.rand(10, 10)\n",
    "\n",
    "# Create an image plot using imshow\n",
    "plt.imshow(values)\n",
    "plt.show()\n"
   ]
  },
  {
   "cell_type": "code",
   "execution_count": 12,
   "metadata": {},
   "outputs": [
    {
     "name": "stdout",
     "output_type": "stream",
     "text": [
      "[1.1, 2.2, 1.3, 1.4, 2.5]\n",
      "[1.1 2.2 1.3 1.4 2.5]\n"
     ]
    }
   ],
   "source": [
    "import numpy as np\n",
    "\n",
    "xarr = np.array([1.1, 1.2, 1.3, 1.4, 1.5])\n",
    "yarr = np.array([2.1, 2.2, 2.3, 2.4, 2.5])\n",
    "cond = np.array([True, False, True, True, False])\n",
    "\n",
    "# Using list comprehension\n",
    "result = [(x if c else y) for x, y, c in zip(xarr, yarr, cond)]\n",
    "print(result)\n",
    "\n",
    "# Using numpy.where\n",
    "result = np.where(cond, xarr, yarr)\n",
    "print(result)\n"
   ]
  },
  {
   "cell_type": "code",
   "execution_count": 13,
   "metadata": {},
   "outputs": [
    {
     "name": "stdout",
     "output_type": "stream",
     "text": [
      "-0.5535037698860303\n",
      "-0.5535037698860303\n",
      "-11.070075397720608\n",
      "[ 0.28210173 -1.10151383 -0.18765649 -1.04871902 -0.71173123]\n",
      "[-3.2006214  -0.97032893 -2.43719809 -4.46192697]\n"
     ]
    }
   ],
   "source": [
    "#statistics\n",
    "import numpy as np\n",
    "\n",
    "arr = np.random.randn(5, 4)\n",
    "\n",
    "# Compute mean and sum\n",
    "print(arr.mean())\n",
    "print(np.mean(arr))\n",
    "print(arr.sum())\n",
    "\n",
    "# Compute mean along axis 1 (across columns)\n",
    "print(arr.mean(axis=1))\n",
    "\n",
    "# Compute sum along axis 0 (down rows)\n",
    "print(arr.sum(axis=0))\n"
   ]
  },
  {
   "cell_type": "code",
   "execution_count": 14,
   "metadata": {},
   "outputs": [
    {
     "name": "stdout",
     "output_type": "stream",
     "text": [
      "[-1.6408038  -1.56222763  0.19030171  1.08169335  1.26257482  1.53424772]\n",
      "[[-0.45632113 -1.6568186  -1.85246828]\n",
      " [-0.12516059 -1.21861025 -1.07907877]\n",
      " [ 0.42016764 -1.16962987 -0.67409135]\n",
      " [ 0.5667252  -0.8663096  -0.47321309]\n",
      " [ 1.43350673  1.29982364 -0.44965056]]\n",
      "[-10  -3   0   1   5   7]\n"
     ]
    }
   ],
   "source": [
    "#sorting arrays\n",
    "import numpy as np\n",
    "\n",
    "arr = np.random.randn(6)\n",
    "\n",
    "# Sort in place\n",
    "arr.sort()\n",
    "print(arr)\n",
    "\n",
    "# Sort along axis 0 (columns) in a multidimensional array\n",
    "arr = np.random.randn(5, 3)\n",
    "arr.sort(axis=0)\n",
    "print(arr)\n",
    "\n",
    "# Return a sorted copy of the array\n",
    "arr2 = np.array([5, -10, 7, 1, 0, -3])\n",
    "sorted_arr2 = np.sort(arr2)\n",
    "print(sorted_arr2)\n"
   ]
  },
  {
   "cell_type": "code",
   "execution_count": 15,
   "metadata": {},
   "outputs": [
    {
     "name": "stdout",
     "output_type": "stream",
     "text": [
      "['Bob' 'Joe' 'Will']\n",
      "[1 2 3 4]\n",
      "[ True False False  True  True False  True]\n"
     ]
    }
   ],
   "source": [
    "#finding unique values in an array\n",
    "import numpy as np\n",
    "\n",
    "names = np.array([\"Bob\", \"Will\", \"Joe\", \"Bob\", \"Will\", \"Joe\", \"Joe\"])\n",
    "unique_names = np.unique(names)\n",
    "print(unique_names)\n",
    "\n",
    "ints = np.array([3, 3, 3, 2, 2, 1, 1, 4, 4])\n",
    "unique_ints = np.unique(ints)\n",
    "print(unique_ints)\n",
    "\n",
    "values = np.array([6, 0, 0, 3, 2, 5, 6])\n",
    "is_member = np.in1d(values, [2, 3, 6])\n",
    "print(is_member)\n"
   ]
  }
 ],
 "metadata": {
  "kernelspec": {
   "display_name": "Python 3",
   "language": "python",
   "name": "python3"
  },
  "language_info": {
   "codemirror_mode": {
    "name": "ipython",
    "version": 3
   },
   "file_extension": ".py",
   "mimetype": "text/x-python",
   "name": "python",
   "nbconvert_exporter": "python",
   "pygments_lexer": "ipython3",
   "version": "3.10.7"
  },
  "orig_nbformat": 4
 },
 "nbformat": 4,
 "nbformat_minor": 2
}
