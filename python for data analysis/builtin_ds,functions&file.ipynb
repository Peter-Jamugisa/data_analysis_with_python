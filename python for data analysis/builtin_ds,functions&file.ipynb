{
 "cells": [
  {
   "cell_type": "code",
   "execution_count": null,
   "metadata": {},
   "outputs": [],
   "source": [
    "#a tuple is a fixed length,immutable sequence of python which once assigned, can't be changed.\n",
    "tup=(4,5,6)\n"
   ]
  },
  {
   "cell_type": "code",
   "execution_count": 2,
   "metadata": {},
   "outputs": [
    {
     "name": "stdout",
     "output_type": "stream",
     "text": [
      "('s', 't', 'r', 'i', 'n', 'g')\n",
      "t\n"
     ]
    }
   ],
   "source": [
    "#u can convert a sequence or interator to a tuple by envoking tuple.\n",
    "tup=tuple('string')\n",
    "\n",
    "print(tup)\n",
    "\n",
    "print(tup[1])"
   ]
  },
  {
   "cell_type": "code",
   "execution_count": 5,
   "metadata": {},
   "outputs": [
    {
     "name": "stdout",
     "output_type": "stream",
     "text": [
      "(50, 4, 2)\n",
      "50\n"
     ]
    }
   ],
   "source": [
    "#nested tuples\n",
    "nested_tup=(3,4,5),(50,4,2)\n",
    "\n",
    "print(nested_tup[1])\n",
    "print(nested_tup[1][0])\n"
   ]
  },
  {
   "cell_type": "code",
   "execution_count": null,
   "metadata": {},
   "outputs": [],
   "source": [
    "#dictionaries\n",
    "empty_dict={}\n",
    "\n",
    "d1 = {\"a\":\"one\",\"b\":\"two\"}"
   ]
  }
 ],
 "metadata": {
  "kernelspec": {
   "display_name": "Python 3",
   "language": "python",
   "name": "python3"
  },
  "language_info": {
   "codemirror_mode": {
    "name": "ipython",
    "version": 3
   },
   "file_extension": ".py",
   "mimetype": "text/x-python",
   "name": "python",
   "nbconvert_exporter": "python",
   "pygments_lexer": "ipython3",
   "version": "3.10.7"
  },
  "orig_nbformat": 4
 },
 "nbformat": 4,
 "nbformat_minor": 2
}
